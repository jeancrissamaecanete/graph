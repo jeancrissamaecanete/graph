{
 "cells": [
  {
   "cell_type": "markdown",
   "metadata": {
    "collapsed": true,
    "pycharm": {
     "name": "#%% md\n"
    }
   },
   "source": [
    "# A Sample Breadth-First Search Implementation\n",
    "#### Distributed by: Orven E. Llantos, PhD"
   ]
  },
  {
   "cell_type": "markdown",
   "metadata": {},
   "source": [
    "## Define the Node\n"
   ]
  },
  {
   "cell_type": "code",
   "execution_count": 29,
   "metadata": {
    "pycharm": {
     "name": "#%%\n"
    }
   },
   "outputs": [],
   "source": [
    "class Node:\n",
    "\n",
    "    def __init__(self, name):\n",
    "        self.name = name\n",
    "        self.adjacency_list = []\n",
    "        self.visited = False\n"
   ]
  },
  {
   "cell_type": "markdown",
   "metadata": {},
   "source": [
    "## Define Operators"
   ]
  },
  {
   "cell_type": "code",
   "execution_count": 30,
   "metadata": {
    "pycharm": {
     "name": "#%%\n"
    }
   },
   "outputs": [],
   "source": [
    "def initial_state(start, problem):\n",
    "    for node in problem:\n",
    "        if start.name == node.name:\n",
    "            return [start]\n",
    "    return []\n",
    "\n",
    "def remove_front(nodes):\n",
    "    actual_node = nodes.pop(0)\n",
    "    actual_node.visited = True\n",
    "\n",
    "    return actual_node\n",
    "\n",
    "def goal_test(node, target):\n",
    "    return node.name == target.name\n",
    "\n",
    "def queueing_fn(nodes, actual_node):\n",
    "    for n in actual_node.adjacency_list: #expand the tree\n",
    "        if not n.visited:\n",
    "            n.visited = True\n",
    "            nodes.append(n)\n",
    "    return nodes\n",
    "\n",
    "def is_empty(frontier):\n",
    "    return len(frontier) == 0\n",
    "\n",
    "def reset_visited():\n",
    "    for node in problem:\n",
    "        node.visited = False"
   ]
  },
  {
   "cell_type": "markdown",
   "metadata": {},
   "source": [
    "## BFS Code"
   ]
  },
  {
   "cell_type": "code",
   "execution_count": 31,
   "metadata": {
    "pycharm": {
     "name": "#%%\n"
    }
   },
   "outputs": [],
   "source": [
    "def breadth_first_search(start_node, target_node):\n",
    "    frontier = initial_state(start_node, problem) #Initialize\n",
    "\n",
    "    while True:\n",
    "        if is_empty(frontier):\n",
    "            print(\"Failure in Search\")\n",
    "            return\n",
    "\n",
    "        node = remove_front(frontier)\n",
    "\n",
    "        print(node.name)\n",
    "\n",
    "        if goal_test(node, target_node):\n",
    "            print(\"Found \" + node.name)\n",
    "            return\n",
    "\n",
    "        frontier = queueing_fn(frontier, node)\n"
   ]
  },
  {
   "cell_type": "markdown",
   "metadata": {},
   "source": [
    "## Create Nodes"
   ]
  },
  {
   "cell_type": "code",
   "execution_count": 32,
   "metadata": {
    "pycharm": {
     "name": "#%%\n"
    }
   },
   "outputs": [],
   "source": [
    " # we can create the nodes or vertices\n",
    "\n",
    "node1 = Node(\"A\") #make-node\n",
    "node2 = Node(\"B\") #make-node\n",
    "node3 = Node(\"C\") #make-node\n",
    "node4 = Node(\"D\") #make-node\n",
    "node5 = Node(\"E\") #make-node"
   ]
  },
  {
   "cell_type": "markdown",
   "metadata": {},
   "source": [
    "## Define the Graph"
   ]
  },
  {
   "cell_type": "code",
   "execution_count": 33,
   "metadata": {
    "pycharm": {
     "name": "#%%\n"
    }
   },
   "outputs": [],
   "source": [
    "node1.adjacency_list.append(node2)\n",
    "node1.adjacency_list.append(node3)\n",
    "node2.adjacency_list.append(node4)\n",
    "node4.adjacency_list.append(node5)"
   ]
  },
  {
   "cell_type": "markdown",
   "metadata": {
    "pycharm": {
     "name": "#%% md\n"
    }
   },
   "source": [
    "### Define the problem"
   ]
  },
  {
   "cell_type": "code",
   "execution_count": 34,
   "metadata": {
    "pycharm": {
     "name": "#%%\n"
    }
   },
   "outputs": [],
   "source": [
    "problem = []\n",
    "problem.append(node1)\n",
    "problem.append(node2)\n",
    "problem.append(node3)\n",
    "problem.append(node4)\n",
    "problem.append(node5)"
   ]
  },
  {
   "cell_type": "markdown",
   "metadata": {},
   "source": [
    "### Set Target 1"
   ]
  },
  {
   "cell_type": "code",
   "execution_count": 35,
   "metadata": {
    "pycharm": {
     "name": "#%%\n"
    }
   },
   "outputs": [],
   "source": [
    "target1 = node5\n"
   ]
  },
  {
   "cell_type": "markdown",
   "metadata": {},
   "source": [
    "### Run the BFS Code"
   ]
  },
  {
   "cell_type": "code",
   "execution_count": 36,
   "metadata": {
    "pycharm": {
     "name": "#%%\n"
    }
   },
   "outputs": [
    {
     "name": "stdout",
     "output_type": "stream",
     "text": [
      "A\n",
      "B\n",
      "C\n",
      "D\n",
      "E\n",
      "Found E\n"
     ]
    }
   ],
   "source": [
    "breadth_first_search(node1, target1)"
   ]
  },
  {
   "cell_type": "markdown",
   "metadata": {},
   "source": [
    "### Set Target 2"
   ]
  },
  {
   "cell_type": "code",
   "execution_count": 37,
   "metadata": {
    "pycharm": {
     "name": "#%%\n"
    }
   },
   "outputs": [],
   "source": [
    "target2 = node3\n",
    "reset_visited()\n"
   ]
  },
  {
   "cell_type": "markdown",
   "metadata": {},
   "source": [
    "### Run the BFS Code"
   ]
  },
  {
   "cell_type": "code",
   "execution_count": 38,
   "metadata": {
    "pycharm": {
     "name": "#%%\n"
    }
   },
   "outputs": [
    {
     "name": "stdout",
     "output_type": "stream",
     "text": [
      "A\n",
      "B\n",
      "C\n",
      "Found C\n"
     ]
    }
   ],
   "source": [
    "breadth_first_search(node1, target2)\n",
    "reset_visited()"
   ]
  },
  {
   "cell_type": "markdown",
   "metadata": {},
   "source": [
    "### Set Target 3"
   ]
  },
  {
   "cell_type": "code",
   "execution_count": 39,
   "metadata": {
    "pycharm": {
     "name": "#%%\n"
    }
   },
   "outputs": [],
   "source": [
    "target3 = node2"
   ]
  },
  {
   "cell_type": "markdown",
   "metadata": {
    "pycharm": {
     "name": "#%% md\n"
    }
   },
   "source": [
    "### Run the BFS Code"
   ]
  },
  {
   "cell_type": "code",
   "execution_count": 40,
   "metadata": {
    "pycharm": {
     "name": "#%%\n"
    }
   },
   "outputs": [
    {
     "name": "stdout",
     "output_type": "stream",
     "text": [
      "Failure in Search\n"
     ]
    }
   ],
   "source": [
    "breadth_first_search(Node('X'), target3)\n",
    "reset_visited()"
   ]
  },
  {
   "cell_type": "markdown",
   "metadata": {},
   "source": [
    "### Set Target 4"
   ]
  },
  {
   "cell_type": "code",
   "execution_count": 41,
   "metadata": {
    "pycharm": {
     "name": "#%%\n"
    }
   },
   "outputs": [],
   "source": [
    "target4 = Node('X')"
   ]
  },
  {
   "cell_type": "markdown",
   "metadata": {
    "pycharm": {
     "name": "#%% md\n"
    }
   },
   "source": [
    "### Run the BFS Code"
   ]
  },
  {
   "cell_type": "code",
   "execution_count": 42,
   "metadata": {
    "pycharm": {
     "name": "#%%\n"
    }
   },
   "outputs": [
    {
     "name": "stdout",
     "output_type": "stream",
     "text": [
      "A\n",
      "B\n",
      "C\n",
      "D\n",
      "E\n",
      "Failure in Search\n"
     ]
    }
   ],
   "source": [
    "breadth_first_search(node1, target4)\n",
    "reset_visited()"
   ]
  }
 ],
 "metadata": {
  "kernelspec": {
   "display_name": "Python 3",
   "language": "python",
   "name": "python3"
  },
  "language_info": {
   "codemirror_mode": {
    "name": "ipython",
    "version": 3
   },
   "file_extension": ".py",
   "mimetype": "text/x-python",
   "name": "python",
   "nbconvert_exporter": "python",
   "pygments_lexer": "ipython3",
   "version": "3.9.0"
  }
 },
 "nbformat": 4,
 "nbformat_minor": 1
}